{
 "cells": [
  {
   "cell_type": "code",
   "execution_count": null,
   "metadata": {},
   "outputs": [],
   "source": []
  },
  {
   "cell_type": "code",
   "execution_count": null,
   "metadata": {},
   "outputs": [],
   "source": []
  },
  {
   "cell_type": "markdown",
   "metadata": {},
   "source": [
    "# veriyi okumak icin yapilacak islemler"
   ]
  },
  {
   "cell_type": "code",
   "execution_count": null,
   "metadata": {},
   "outputs": [],
   "source": [
    "#CNN_notebook3 te var islemler "
   ]
  },
  {
   "cell_type": "code",
   "execution_count": null,
   "metadata": {},
   "outputs": [],
   "source": [
    "my_data= '/content/drive/MyDrive/DataSets/cell_images'\n",
    "#colab'ta veri dosyasina ulasirken\n",
    "# content demek ilk dosya simgesine tikladigin yer, ordan drive tikliyorsun altinda myDrive geliyor ve sonrasini yaziyorsun"
   ]
  },
  {
   "cell_type": "code",
   "execution_count": null,
   "metadata": {},
   "outputs": [],
   "source": []
  },
  {
   "cell_type": "markdown",
   "metadata": {},
   "source": [
    "# veriyi tanimak icin yapilacak islemler"
   ]
  },
  {
   "cell_type": "code",
   "execution_count": null,
   "metadata": {},
   "outputs": [],
   "source": [
    "classes = [\"airplane\",\"automobile\",\"bird\",\"cat\",\"deer\",\"dog\",\"frog\",\"horse\",\"ship\",\"truck\"]  \n",
    " #buda bizim datamizin outputlari\n",
    "\n",
    "\n",
    "\n",
    "\n",
    "plt.figure(figsize=(25, 25))\n",
    "for i in range(256):  #renkler 0,255 arasindaydi, 256 dahil olmuyor zaten\n",
    "    rand_index = int(np.random.randint(low=0, high=50000, size=1))  #yukarida aciklamasi var,asagidaki resimlerin randomolarak alinmasi icin\n",
    "    plt.subplot(16, 16, i+1, label=classes[int(y_train[rand_index])])  #16ya 16 lik asagida resimler var\n",
    "    plt.axis('off')\n",
    "    plt.title(classes[int(y_train[rand_index])])\n",
    "    plt.imshow(X_train[rand_index])   #imshow biseyin gösterilmesi demek\n",
    "\n",
    "    #bu bizim datamizdan bir bölüm gifi df.head() gibi bisey"
   ]
  }
 ],
 "metadata": {
  "kernelspec": {
   "display_name": "Python 3.10.7 64-bit",
   "language": "python",
   "name": "python3"
  },
  "language_info": {
   "name": "python",
   "version": "3.10.7"
  },
  "orig_nbformat": 4,
  "vscode": {
   "interpreter": {
    "hash": "aee8b7b246df8f9039afb4144a1f6fd8d2ca17a180786b69acc140d282b71a49"
   }
  }
 },
 "nbformat": 4,
 "nbformat_minor": 2
}
