{
 "cells": [
  {
   "cell_type": "code",
   "execution_count": 2,
   "metadata": {},
   "outputs": [
    {
     "name": "stdout",
     "output_type": "stream",
     "text": [
      "1.13.0\n"
     ]
    }
   ],
   "source": [
    "import torch\n",
    "print(torch.__version__)"
   ]
  },
  {
   "cell_type": "code",
   "execution_count": null,
   "metadata": {},
   "outputs": [],
   "source": [
    "import cv2"
   ]
  },
  {
   "cell_type": "markdown",
   "metadata": {},
   "source": [
    "# veriyi okumak icin yapilacak islemler"
   ]
  },
  {
   "cell_type": "code",
   "execution_count": null,
   "metadata": {},
   "outputs": [],
   "source": [
    "#CNN_notebook3 te var islemler "
   ]
  },
  {
   "cell_type": "code",
   "execution_count": null,
   "metadata": {},
   "outputs": [],
   "source": [
    "my_data= '/content/drive/MyDrive/DataSets/cell_images'\n",
    "#colab'ta veri dosyasina ulasirken\n",
    "# content demek ilk dosya simgesine tikladigin yer, ordan drive tikliyorsun altinda myDrive geliyor ve sonrasini yaziyorsun"
   ]
  },
  {
   "cell_type": "code",
   "execution_count": null,
   "metadata": {},
   "outputs": [],
   "source": []
  },
  {
   "cell_type": "markdown",
   "metadata": {},
   "source": [
    "# veriyi tanimak icin yapilacak islemler"
   ]
  },
  {
   "cell_type": "code",
   "execution_count": null,
   "metadata": {},
   "outputs": [],
   "source": [
    "classes = [\"airplane\",\"automobile\",\"bird\",\"cat\",\"deer\",\"dog\",\"frog\",\"horse\",\"ship\",\"truck\"]  \n",
    " #buda bizim datamizin outputlari\n",
    "\n",
    "\n",
    "\n",
    "\n",
    "plt.figure(figsize=(25, 25))\n",
    "for i in range(256):  #renkler 0,255 arasindaydi, 256 dahil olmuyor zaten\n",
    "    rand_index = int(np.random.randint(low=0, high=50000, size=1))  #yukarida aciklamasi var,asagidaki resimlerin randomolarak alinmasi icin\n",
    "    plt.subplot(16, 16, i+1, label=classes[int(y_train[rand_index])])  #16ya 16 lik asagida resimler var\n",
    "    plt.axis('off')\n",
    "    plt.title(classes[int(y_train[rand_index])])\n",
    "    plt.imshow(X_train[rand_index])   #imshow biseyin gösterilmesi demek\n",
    "\n",
    "    #bu bizim datamizdan bir bölüm gifi df.head() gibi bisey"
   ]
  }
 ],
 "metadata": {
  "kernelspec": {
   "display_name": "Python 3.9.12 ('base')",
   "language": "python",
   "name": "python3"
  },
  "language_info": {
   "codemirror_mode": {
    "name": "ipython",
    "version": 3
   },
   "file_extension": ".py",
   "mimetype": "text/x-python",
   "name": "python",
   "nbconvert_exporter": "python",
   "pygments_lexer": "ipython3",
   "version": "3.9.12"
  },
  "orig_nbformat": 4,
  "vscode": {
   "interpreter": {
    "hash": "f7c19a79b9aeb8b1cc18eda6778f62d726c8b19540b84d23ad80114035b2e0b4"
   }
  }
 },
 "nbformat": 4,
 "nbformat_minor": 2
}
