{
 "cells": [
  {
   "cell_type": "code",
   "execution_count": 2,
   "metadata": {},
   "outputs": [
    {
     "name": "stdout",
     "output_type": "stream",
     "text": [
      "1.13.0\n"
     ]
    }
   ],
   "source": [
    "import torch\n",
    "print(torch.__version__)"
   ]
  },
  {
   "cell_type": "code",
   "execution_count": null,
   "metadata": {},
   "outputs": [],
   "source": [
    "import cv2"
   ]
  },
  {
   "cell_type": "markdown",
   "metadata": {},
   "source": [
    "# veriyi okumak icin yapilacak islemler"
   ]
  },
  {
   "cell_type": "code",
   "execution_count": null,
   "metadata": {},
   "outputs": [],
   "source": [
    "#CNN_notebook3 te var islemler "
   ]
  },
  {
   "cell_type": "code",
   "execution_count": null,
   "metadata": {},
   "outputs": [],
   "source": [
    "my_data= '/content/drive/MyDrive/DataSets/cell_images'\n",
    "#colab'ta veri dosyasina ulasirken\n",
    "# content demek ilk dosya simgesine tikladigin yer, ordan drive tikliyorsun altinda myDrive geliyor ve sonrasini yaziyorsun"
   ]
  },
  {
   "cell_type": "code",
   "execution_count": null,
   "metadata": {},
   "outputs": [],
   "source": []
  },
  {
   "cell_type": "markdown",
   "metadata": {},
   "source": [
    "# veriyi tanimak icin yapilacak islemler"
   ]
  },
  {
   "cell_type": "code",
   "execution_count": null,
   "metadata": {},
   "outputs": [],
   "source": [
    "classes = [\"airplane\",\"automobile\",\"bird\",\"cat\",\"deer\",\"dog\",\"frog\",\"horse\",\"ship\",\"truck\"]  \n",
    " #buda bizim datamizin outputlari\n",
    "\n",
    "\n",
    "\n",
    "\n",
    "plt.figure(figsize=(25, 25))\n",
    "for i in range(256):  #renkler 0,255 arasindaydi, 256 dahil olmuyor zaten\n",
    "    rand_index = int(np.random.randint(low=0, high=50000, size=1))  #yukarida aciklamasi var,asagidaki resimlerin randomolarak alinmasi icin\n",
    "    plt.subplot(16, 16, i+1, label=classes[int(y_train[rand_index])])  #16ya 16 lik asagida resimler var\n",
    "    plt.axis('off')\n",
    "    plt.title(classes[int(y_train[rand_index])])\n",
    "    plt.imshow(X_train[rand_index])   #imshow biseyin gösterilmesi demek\n",
    "\n",
    "    #bu bizim datamizdan bir bölüm gifi df.head() gibi bisey"
   ]
  },
  {
   "cell_type": "markdown",
   "metadata": {},
   "source": [
    "# Fit ve sonrasi icin hazir kod blogu"
   ]
  },
  {
   "cell_type": "code",
   "execution_count": null,
   "metadata": {},
   "outputs": [],
   "source": [
    "#@title Function to Train & Test  given model (Early Stopping monitor 'val_loss')\n",
    "def train_test(model, X_train, y_train , \n",
    "               X_test, \ty_test, epochs=100, \n",
    "\t\t\t\t\t\t\t        verbose=0, patience=5):\n",
    "\t# patient early stopping\n",
    "\t#es = EarlyStopping(monitor='val_accuracy', mode='max', min_delta=1, patience=20)\n",
    "\tes = EarlyStopping(monitor='val_loss', mode='min', \n",
    "\t                   verbose=1, patience=patience)\n",
    "\t# train model\n",
    "\tprint('training for ',epochs,\n",
    "\t      ' epochs begins with',\n",
    "\t\t\t\t' EarlyStopping(monitor= val_loss ',\n",
    "\t\t\t\t' patience=',patience,')....')\n",
    "\thistory=model.fit(X_train, y_train, validation_split= 0.1, epochs=epochs,  verbose=verbose, callbacks=[es])\n",
    "\tprint(epochs,' epoch training finished...')\n",
    "\n",
    "\t# report training\n",
    "\t# list all data in history\n",
    "\t#print(history.history.keys())\n",
    "\t# evaluate the model\n",
    "\t_, train_acc = model.evaluate(X_train, y_train, verbose=0)\n",
    "\t_, test_acc = model.evaluate(X_test, \ty_test, verbose=0)\n",
    "\tprint('\\nPREDICTION ACCURACY (%):')\n",
    "\tprint('Train: %.3f, Test: %.3f' % (train_acc*100, test_acc*100))\n",
    "\t# summarize history for accuracy\n",
    "\tplt.plot(history.history['accuracy'])\n",
    "\tplt.plot(history.history['val_accuracy'])\n",
    "\tplt.title(model.name+' accuracy')\n",
    "\tplt.ylabel('accuracy')\n",
    "\tplt.xlabel('epoch')\n",
    "\tplt.legend(['train', 'val'], loc='upper left')\n",
    "\tplt.show()\n",
    "\t# summarize history for loss\n",
    "\tplt.plot(history.history['loss'])\n",
    "\tplt.plot(history.history['val_loss'])\n",
    "\tplt.title(model.name+' loss')\n",
    "\tplt.ylabel('loss')\n",
    "\tplt.xlabel('epoch')\n",
    "\tplt.legend(['train', 'val'], loc='upper left')\n",
    "\tplt.show()\n",
    "\n",
    "\n",
    "\n",
    "\n",
    "  \n",
    "\t# spot check some examples\n",
    "\tprint('some examples...')\n",
    "\tfor _ in range(10):\n",
    "\t\tX,y = get_reversed_pairs(n_timesteps, n_features)\n",
    "\t\tyhat = model.predict(X, verbose=0)\n",
    "\t\tprint('Input',one_hot_decode(X[0]),\n",
    "\t\t\t\t\t'Expected:', one_hot_decode(y[0]), \n",
    "\t\t\t\t\t\t'Predicted', one_hot_decode(yhat[0]),\n",
    "\t\t\t\t\t\t\t'', array_equal(one_hot_decode(y[0]), one_hot_decode(yhat[0])) )"
   ]
  },
  {
   "cell_type": "code",
   "execution_count": null,
   "metadata": {},
   "outputs": [],
   "source": [
    "train_test(model_Single_LSTM_default_output, \n",
    "           X_train, y_train , X_test, y_test, \n",
    "           verbose=0)\n",
    "\n",
    "           #yukardaki kodu cagirmak iicnde bu formatta cagiriyoruz"
   ]
  }
 ],
 "metadata": {
  "kernelspec": {
   "display_name": "Python 3.9.12 ('base')",
   "language": "python",
   "name": "python3"
  },
  "language_info": {
   "codemirror_mode": {
    "name": "ipython",
    "version": 3
   },
   "file_extension": ".py",
   "mimetype": "text/x-python",
   "name": "python",
   "nbconvert_exporter": "python",
   "pygments_lexer": "ipython3",
   "version": "3.9.12"
  },
  "orig_nbformat": 4,
  "vscode": {
   "interpreter": {
    "hash": "f7c19a79b9aeb8b1cc18eda6778f62d726c8b19540b84d23ad80114035b2e0b4"
   }
  }
 },
 "nbformat": 4,
 "nbformat_minor": 2
}
