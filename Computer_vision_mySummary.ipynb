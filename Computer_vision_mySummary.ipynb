{
 "cells": [
  {
   "cell_type": "code",
   "execution_count": null,
   "metadata": {},
   "outputs": [],
   "source": [
    "conf.batch_size = 32 # normal batch sizelerimiz genelde 16 nin katlari seklinde seciyoruz, hoca 96 yapti ekran kartiniz güclü ise fazla yazin dedi\n",
    "#bunun anlami bir iterasyonda modele 32 tane resim veriyoruz, bunun arttirdiginda uzayi büyütebiliyoruz, emin adimlarla gidebiliyoruz\n",
    "# hatanin minimize oldugu en alt noktayi bulmak icin, büüyk adimlar atmaliyiz\n",
    "#ama batch_size'i düsürdugunde learning ratede biraz düsürmek daha iyidir"
   ]
  },
  {
   "cell_type": "code",
   "execution_count": null,
   "metadata": {},
   "outputs": [],
   "source": [
    "# bir epoch'ta tüm resimleri bir kere göstermis oluyoruz \n",
    "# her epochta parametreleri güncelliyoruz,weightleri\n",
    "#"
   ]
  },
  {
   "cell_type": "markdown",
   "metadata": {},
   "source": [
    "![](2022-11-17-15-15-47.png)"
   ]
  },
  {
   "cell_type": "markdown",
   "metadata": {},
   "source": []
  }
 ],
 "metadata": {
  "kernelspec": {
   "display_name": "Python 3.9.12 ('base')",
   "language": "python",
   "name": "python3"
  },
  "language_info": {
   "name": "python",
   "version": "3.9.12"
  },
  "orig_nbformat": 4,
  "vscode": {
   "interpreter": {
    "hash": "f7c19a79b9aeb8b1cc18eda6778f62d726c8b19540b84d23ad80114035b2e0b4"
   }
  }
 },
 "nbformat": 4,
 "nbformat_minor": 2
}
