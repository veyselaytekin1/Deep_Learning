{
 "cells": [
  {
   "cell_type": "code",
   "execution_count": 89,
   "id": "7baebf7b",
   "metadata": {},
   "outputs": [
    {
     "name": "stdout",
     "output_type": "stream",
     "text": [
      "Requirement already satisfied: pytesseract in c:\\users\\lenovo\\anaconda3\\lib\\site-packages (0.3.10)\n",
      "Requirement already satisfied: Pillow>=8.0.0 in c:\\users\\lenovo\\anaconda3\\lib\\site-packages (from pytesseract) (8.4.0)\n",
      "Requirement already satisfied: packaging>=21.3 in c:\\users\\lenovo\\anaconda3\\lib\\site-packages (from pytesseract) (21.3)\n",
      "Requirement already satisfied: pyparsing!=3.0.5,>=2.0.2 in c:\\users\\lenovo\\anaconda3\\lib\\site-packages (from packaging>=21.3->pytesseract) (3.0.4)\n",
      "Note: you may need to restart the kernel to use updated packages.\n"
     ]
    }
   ],
   "source": [
    "pip install pytesseract"
   ]
  },
  {
   "cell_type": "code",
   "execution_count": 100,
   "id": "3a1c41da",
   "metadata": {},
   "outputs": [],
   "source": [
    "from PIL import Image"
   ]
  },
  {
   "cell_type": "code",
   "execution_count": 101,
   "id": "4b95c46f",
   "metadata": {},
   "outputs": [],
   "source": [
    "import pytesseract\n",
    "import cv2"
   ]
  },
  {
   "cell_type": "code",
   "execution_count": 102,
   "id": "a326a688",
   "metadata": {},
   "outputs": [],
   "source": [
    "img= Image.open (\"C:\\\\Users\\\\LENOVO\\\\Desktop\\\\OpenCV photos\\\\ben.png\")"
   ]
  },
  {
   "cell_type": "code",
   "execution_count": 103,
   "id": "6a6d5a76",
   "metadata": {},
   "outputs": [],
   "source": [
    "text= pytesseract.image_to_string(img, lang=\"eng\")"
   ]
  },
  {
   "cell_type": "code",
   "execution_count": 104,
   "id": "c31a50ef",
   "metadata": {},
   "outputs": [
    {
     "name": "stdout",
     "output_type": "stream",
     "text": [
      "BEN EGILMEM\n",
      "\n",
      "Mustafa Kemal’in cocukluk arkadas! Asaf ilbay, okula\n",
      "gittigi ginlere iliskin iki anisini goyle anlatir : “Evimizin\n",
      "bahcesi biiylikti. Sik sik mahalle arkadaslari toplanir ve o\n",
      "zamanlar Selanik’te pek yaygin olan ‘mancik’ oyunu oynardik.\n",
      "Bu bir tur ‘birdirbir’ oyunuydu. Bir kisi egiliyor, Oburleri sirayla\n",
      "onun Uzerinden atliyoriardi. Mustafa oyuna katilmazdi ancak\n",
      "izlemeye de bayilirdi. Bir gin kararlastirdik. Mustafa’y! yaka\n",
      "paga zorla oyuna soktuk. Sirayla hepimizin izerinden atladi.\n",
      "Egilme sirasi kendisine gelince de dimdik durarak “Haydi\n",
      "atlayin!” dedi. Biz basin yere egmesi igin israr ettikge “Ben\n",
      "egilmem. Boyle atlarsaniz atlayin.” diyordu. Bir turli basini\n",
      "egdiremedik.\n",
      "\n"
     ]
    }
   ],
   "source": [
    "print(text)"
   ]
  },
  {
   "cell_type": "code",
   "execution_count": 119,
   "id": "4f6a0bef",
   "metadata": {},
   "outputs": [],
   "source": [
    "img1= Image.open (\"C:\\\\Users\\\\LENOVO\\\\Desktop\\\\OpenCV photos\\\\pl.png\")"
   ]
  },
  {
   "cell_type": "code",
   "execution_count": 120,
   "id": "91c29095",
   "metadata": {},
   "outputs": [],
   "source": [
    "text1= pytesseract.image_to_string(img1, lang=\"eng\")"
   ]
  },
  {
   "cell_type": "code",
   "execution_count": 121,
   "id": "4f0271a0",
   "metadata": {},
   "outputs": [
    {
     "name": "stdout",
     "output_type": "stream",
     "text": [
      "34 AB 1234\n",
      "\n"
     ]
    }
   ],
   "source": [
    "print(text1)"
   ]
  },
  {
   "cell_type": "code",
   "execution_count": 125,
   "id": "3b16f0aa",
   "metadata": {},
   "outputs": [],
   "source": [
    "img2= Image.open (\"C:\\\\Users\\\\LENOVO\\\\Desktop\\\\OpenCV photos\\\\test__.png\")"
   ]
  },
  {
   "cell_type": "code",
   "execution_count": 126,
   "id": "095e5fb8",
   "metadata": {},
   "outputs": [],
   "source": [
    "text2= pytesseract.image_to_string(img2, lang=\"eng\")"
   ]
  },
  {
   "cell_type": "code",
   "execution_count": 127,
   "id": "d647250f",
   "metadata": {},
   "outputs": [
    {
     "name": "stdout",
     "output_type": "stream",
     "text": [
      "J\n",
      "o SN?\n",
      "See Va. Nadek\n",
      "Kak Rerdaraly\n",
      "pu\n",
      "\n",
      "CO kh, Mop tlanrrinig\n",
      "\n"
     ]
    }
   ],
   "source": [
    "print(text2)"
   ]
  },
  {
   "cell_type": "code",
   "execution_count": 135,
   "id": "4713cbb0",
   "metadata": {},
   "outputs": [],
   "source": [
    "img3= Image.open (\"C:\\\\Users\\\\LENOVO\\\\Desktop\\\\OpenCV photos\\\\test_.jpg\")"
   ]
  },
  {
   "cell_type": "code",
   "execution_count": 136,
   "id": "2a888498",
   "metadata": {},
   "outputs": [],
   "source": [
    "text3= pytesseract.image_to_string(img3, lang=\"eng\")"
   ]
  },
  {
   "cell_type": "code",
   "execution_count": 137,
   "id": "4f4b68c7",
   "metadata": {},
   "outputs": [
    {
     "name": "stdout",
     "output_type": "stream",
     "text": [
      "f a\n",
      "\n",
      "ee. (im\n",
      "hue Crh\n",
      "EO\n",
      "\n",
      "———\n",
      "\n",
      "\n"
     ]
    }
   ],
   "source": [
    "print(text3)"
   ]
  },
  {
   "cell_type": "code",
   "execution_count": null,
   "id": "38424069",
   "metadata": {},
   "outputs": [],
   "source": []
  }
 ],
 "metadata": {
  "kernelspec": {
   "display_name": "Python 3.11.0 64-bit",
   "language": "python",
   "name": "python3"
  },
  "language_info": {
   "codemirror_mode": {
    "name": "ipython",
    "version": 3
   },
   "file_extension": ".py",
   "mimetype": "text/x-python",
   "name": "python",
   "nbconvert_exporter": "python",
   "pygments_lexer": "ipython3",
   "version": "3.11.0"
  },
  "vscode": {
   "interpreter": {
    "hash": "aee8b7b246df8f9039afb4144a1f6fd8d2ca17a180786b69acc140d282b71a49"
   }
  }
 },
 "nbformat": 4,
 "nbformat_minor": 5
}
